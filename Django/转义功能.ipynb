{
 "cells": [
  {
   "cell_type": "markdown",
   "metadata": {},
   "source": [
    "django默认开启转义功能，具体来说，是对以下内容进行转义  \n",
    "+ < 转换为 &lt\n",
    "+ \\> 转换为 &gt\n",
    "+ ' （单引号）转换为 &#39\n",
    "+ \" （双引号）转换为 &quot\n",
    "+ & 转换为 &amp\n",
    "\n",
    "自动转义能防止xss攻击，过滤掉标签，避免浏览器执行标签内容。但有时候不需要自动转义，比如在构造邮箱内容时，就需要显示原始内容。关闭自动转义，有三个方法。"
   ]
  },
  {
   "cell_type": "markdown",
   "metadata": {},
   "source": [
    "**1.模板设置过滤器safe**  \n",
    "```\n",
    "{{ name|safe }}\n",
    "```\n",
    "使用这个方法，还需要后台编写过滤规则，以确保显示的内容真的是安全的。此方法需谨慎使用。"
   ]
  },
  {
   "cell_type": "markdown",
   "metadata": {},
   "source": [
    "**2.对于模板块，使用标签autoescape**\n",
    "```\n",
    "{% autoescape off %}\n",
    "{{ name }}\n",
    "{% endautoescape %}\n",
    "```\n",
    "和方法一有相同的安全问题，后台需编写过滤规则。"
   ]
  },
  {
   "cell_type": "markdown",
   "metadata": {},
   "source": [
    "**3.后台逻辑使用mark_safe**\n",
    "```\n",
    "from django.utils.safestring import mark_safe\n",
    "def index(request):\n",
    "    context = {'string': mark_safe(\"<script>alert('123')</script>\")}\n",
    "    return render(request, 'safe_test/index.html', context)\n",
    "```"
   ]
  }
 ],
 "metadata": {
  "kernelspec": {
   "display_name": "Python 3",
   "language": "python",
   "name": "python3"
  },
  "language_info": {
   "codemirror_mode": {
    "name": "ipython",
    "version": 3
   },
   "file_extension": ".py",
   "mimetype": "text/x-python",
   "name": "python",
   "nbconvert_exporter": "python",
   "pygments_lexer": "ipython3",
   "version": "3.6.1"
  }
 },
 "nbformat": 4,
 "nbformat_minor": 2
}
