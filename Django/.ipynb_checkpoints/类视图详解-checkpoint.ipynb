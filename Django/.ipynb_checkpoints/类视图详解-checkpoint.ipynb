{
 "cells": [
  {
   "cell_type": "markdown",
   "metadata": {},
   "source": [
    "# Basic View  \n",
    "## class django.views.generic.base.View\n",
    "+ 最基础的类\n",
    "+ 类方法流程图\n",
    "   + dispatch()-匹配请求的method，如果是get方法，就用get()代表\n",
    "   + http_method_not_allowed()-如果请求的method不支持，将调用此方法，返回可用method列表\n",
    "   + options()-处理request，返回response，并附带允许使用的方法名字\n",
    "\n",
    "## class django.views.generic.base.TemplateView\n",
    "+ 返回指定模板，携带着含有url参数的context\n",
    "+ 父类：\n",
    "   + django.views.generic.base.View\n",
    "   + django.views.generic.base.ContextMixin\n",
    "   + django.views.generic.base.TemplateResponseMixin\n",
    "+ 类方法流程图\n",
    "   + dispatch()\n",
    "   + http_method_not_allowed()\n",
    "   + get_context_data()\n",
    "+ 必含项：template_name\n",
    "+ 常用项：get_context_data()\n",
    "```\n",
    "def get_context_data(self, **kwargs):\n",
    "    context = super().get_context_data(**kwargs)\n",
    "    context['latest_articles'] = Article.objects.all()[:5]\n",
    "    return context\n",
    "```"
   ]
  },
  {
   "cell_type": "markdown",
   "metadata": {},
   "source": [
    "# Class-based views mixins\n",
    "## Simple mixins\n",
    "### class django.views.generic.base.ContextMixin\n",
    "+ Attributes\n",
    "   + extra_context\n",
    "   ```\n",
    "   from django.views.generic import TemplateView\n",
    "   TemplateView.as_view(extra_context={'title': 'Custom Title'})\n",
    "   ```\n",
    "      + 后端通过字典向前端传数据，context就是这个字典，extra_context设置的字典会添加到context中\n",
    "      + extra_context的使用方法：在URLconf中添加即可\n",
    "+ Method\n",
    "   + get_context_data(\\*\\*kwargs)\n",
    "      + 返回代表模板context的字典\n",
    "      + 最好给view的方法设置alters_data = True\n",
    "      ```\n",
    "        def sensitive_function(self):\n",
    "            self.database_record.delete()\n",
    "        sensitive_function.alters_data = True\n",
    "      ```\n",
    "\n",
    "### class django.views.generic.base.TemplateResponseMixin\n",
    "+ Attributes\n",
    "   + template_name：template的全名，也就是相对templates目录的相对路径\n",
    "   + template_engine：默认None，表示在所有已配置引擎中搜索模板\n",
    "   + response_class：默认TemplateResponse，由render_to_response方法返回\n",
    "   + content_type：默认None，表示使用DEFAULT_CONTENT_TYPE的值\n",
    "+ Methods\n",
    "   + render_to_response(context, \\*\\*response_kwargs)  \n",
    "      + 返回self.response_class实例，关键词参数会被传入实例中\n",
    "      + 调用get_template_names方法，获得待搜索template列表\n",
    "   + get_template_names()\n",
    "      + 返回待搜索template列表\n",
    "      + 如果指定template_name，将会返回指定template，比如templates底下有polls的目录，那么polls就是一个template_name"
   ]
  },
  {
   "cell_type": "markdown",
   "metadata": {},
   "source": [
    "## Multiple object mixins\n",
    "### class django.views.generic.list.MultipleObjectMixin\n",
    "+ 父类\n",
    "   + django.views.generic.base.ContextMixin\n",
    "+ 属性\n",
    "   + allowed_empty：默认为True，返回的对象为空时，允许为空\n",
    "   + model：指定模型的名字\n",
    "   + queryset：ORM操作的QuerySet，如果指定，将会覆盖model指定的值\n",
    "   + ordering：指定queryset的排序方式，一般不用，而是用ORM的order_by()\n",
    "   + paginate_by：用于分页，指定每页行数，如果指定了值，就需要url中传递参数page\n",
    "   + paginate_orphans：用于分页，指定最后一页最大行数\n",
    "   + page_kwarg：默认为page，指定page参数的名字，比如赋值为'hhh'，那么URLconf中就需要写`<int:hhh>`\n",
    "   + paginator_class：默认为django.core.paginator.Paginator，表示使用的分页器类\n",
    "   + context_object_name：context中对象列表的名字\n",
    "+ 方法\n",
    "   + get_queryset()\n",
    "   + get_ordering()\n",
    "   + paginate_queryset(queryset, page_size)：返回元组(paginator, page, object_list, is_paginated)\n",
    "   + get_context_data(**kwargs)\n",
    "   + 其他的方法都是获取属性的，不赘述\n",
    "+ context中含有的值\n",
    "   + object_list\n",
    "   + is_paginated\n",
    "   + paginator\n",
    "   + page_obj"
   ]
  }
 ],
 "metadata": {
  "kernelspec": {
   "display_name": "Python 3",
   "language": "python",
   "name": "python3"
  },
  "language_info": {
   "codemirror_mode": {
    "name": "ipython",
    "version": 3
   },
   "file_extension": ".py",
   "mimetype": "text/x-python",
   "name": "python",
   "nbconvert_exporter": "python",
   "pygments_lexer": "ipython3",
   "version": "3.6.1"
  }
 },
 "nbformat": 4,
 "nbformat_minor": 2
}
