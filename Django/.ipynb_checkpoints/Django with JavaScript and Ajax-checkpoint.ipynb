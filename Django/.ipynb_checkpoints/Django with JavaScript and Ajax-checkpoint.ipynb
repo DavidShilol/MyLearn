{
 "cells": [
  {
   "cell_type": "markdown",
   "metadata": {},
   "source": [
    "# Javascript"
   ]
  },
  {
   "cell_type": "markdown",
   "metadata": {},
   "source": [
    "js_test.html"
   ]
  },
  {
   "cell_type": "code",
   "execution_count": null,
   "metadata": {
    "collapsed": true
   },
   "outputs": [],
   "source": [
    "<a onclick=\"urlHtml()\"><button>js test</button></a>\n",
    "\n",
    "<script type=\"text/javascript\">\n",
    "function urlHtml(){\n",
    "    var toUrl = \"{% url 'ajax:index' %}?param=baby\";\n",
    "    window.location.href=toUrl;\n",
    "}\n",
    "</script>"
   ]
  },
  {
   "cell_type": "markdown",
   "metadata": {},
   "source": [
    "views.py"
   ]
  },
  {
   "cell_type": "code",
   "execution_count": null,
   "metadata": {
    "collapsed": true
   },
   "outputs": [],
   "source": [
    "def index(request):\n",
    "    print('param:', request.GET.get('param', ''))\n",
    "    return render(request, 'ajax/index.html')"
   ]
  },
  {
   "cell_type": "markdown",
   "metadata": {},
   "source": [
    "# Ajax"
   ]
  },
  {
   "cell_type": "markdown",
   "metadata": {},
   "source": [
    "1.配置静态文件  \n",
    "settings.py"
   ]
  },
  {
   "cell_type": "code",
   "execution_count": null,
   "metadata": {
    "collapsed": true
   },
   "outputs": [],
   "source": [
    "STATIC_URL = '/static/'\n",
    "STATICFILES_DIRS = [os.path.join(BASE_DIR, \"static\")]"
   ]
  },
  {
   "cell_type": "markdown",
   "metadata": {},
   "source": [
    "2.创建静态资源目录  \n",
    "在app下创建目录static，然后在static下创建目录app_name，也就是你的app名字，最后在刚刚创建的app_name目录下创建js目录"
   ]
  },
  {
   "cell_type": "markdown",
   "metadata": {},
   "source": [
    "3.导入jquery文件，这里用的是jquery.min.js，放在刚刚创建的js目录，也就是说jquery文件的路径为相对Django项目的\"/app_name/static/app_name/js/jquery.min.js\""
   ]
  },
  {
   "cell_type": "markdown",
   "metadata": {},
   "source": [
    "4.前端  \n",
    "baby.html"
   ]
  },
  {
   "cell_type": "code",
   "execution_count": null,
   "metadata": {
    "collapsed": true
   },
   "outputs": [],
   "source": [
    "{% load static %}\n",
    "<script type=\"text/javascript\" src=\"{% static 'ajax/js/jquery.min.js' %}\"></script>\n",
    "<a onclick=\"urlHtml()\"><button>test</button></a>\n",
    "\n",
    "<script type=\"text/javascript\">\n",
    "function urlHtml(){\n",
    "    var post_data = {\n",
    "        \"name\": \"allen\",\n",
    "    };\n",
    "    $.ajax({\n",
    "        url: \"\",\n",
    "        type: \"POST\",\n",
    "        data: post_data,\n",
    "        success: function(data){\n",
    "            data = JSON.parse(data);\n",
    "            if (data[\"status\"] == 1){\n",
    "                console.log(\"1\");\n",
    "            }else{\n",
    "                console.log(data[\"result\"]);\n",
    "            }\n",
    "        }\n",
    "    });\n",
    "}\n",
    "</script>"
   ]
  },
  {
   "cell_type": "markdown",
   "metadata": {},
   "source": [
    "5.后台  \n",
    "views.py"
   ]
  },
  {
   "cell_type": "code",
   "execution_count": null,
   "metadata": {
    "collapsed": true
   },
   "outputs": [],
   "source": [
    "def baby(request):\n",
    "    if request.method == \"POST\":\n",
    "        if request.is_ajax():\n",
    "            name = request.POST.get('name', '')\n",
    "            print('name:', name)\n",
    "            status = 0\n",
    "            result = \"Error!\"\n",
    "            return HttpResponse(json.dumps({\n",
    "                \"status\": status,\n",
    "                \"result\": result\n",
    "                }))\n",
    "    else:\n",
    "        return render(request, 'ajax/baby.html')"
   ]
  },
  {
   "cell_type": "markdown",
   "metadata": {},
   "source": [
    "**传数据还有另一个方法**  \n",
    "后台用django.http.JsonResponse  \n",
    "前台取的data就是一个字典，不需要JSON.parse(data)进行转换"
   ]
  },
  {
   "cell_type": "code",
   "execution_count": null,
   "metadata": {
    "collapsed": true
   },
   "outputs": [],
   "source": [
    "# 利用django提供的JsonResponse方法，替换原先的HttpResponse即可。\n",
    "# JsonResponse第二个参数是safe，当传入数据非字典时，需要赋值为True，默认值是False\n",
    "data1 = {'a': 1, 'b': 2}\n",
    "return JsonResponse(data1)\n",
    "data2 = [4, 5, 6]\n",
    "return JsonResponse(data2, safe=True)"
   ]
  }
 ],
 "metadata": {
  "kernelspec": {
   "display_name": "Python 3",
   "language": "python",
   "name": "python3"
  },
  "language_info": {
   "codemirror_mode": {
    "name": "ipython",
    "version": 3
   },
   "file_extension": ".py",
   "mimetype": "text/x-python",
   "name": "python",
   "nbconvert_exporter": "python",
   "pygments_lexer": "ipython3",
   "version": "3.6.1"
  }
 },
 "nbformat": 4,
 "nbformat_minor": 2
}
