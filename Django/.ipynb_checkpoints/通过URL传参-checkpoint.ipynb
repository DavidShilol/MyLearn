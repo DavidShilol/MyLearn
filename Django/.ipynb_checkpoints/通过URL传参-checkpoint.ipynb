{
 "cells": [
  {
   "cell_type": "markdown",
   "metadata": {},
   "source": [
    "# 普通视图传参\n",
    "\n",
    "## 传少量参数"
   ]
  },
  {
   "cell_type": "code",
   "execution_count": null,
   "metadata": {
    "collapsed": true
   },
   "outputs": [],
   "source": [
    "# urls.py\n",
    "path('book/<int:page>/<str:name>/', views.book, name='book')\n",
    "\n",
    "# views.py\n",
    "def book(request, page, name):\n",
    "    return HttpResponse('book page:{} name:{}'.format(page, name))"
   ]
  },
  {
   "cell_type": "markdown",
   "metadata": {},
   "source": [
    "## 传多个参数"
   ]
  },
  {
   "cell_type": "code",
   "execution_count": null,
   "metadata": {
    "collapsed": true
   },
   "outputs": [],
   "source": [
    "# urls.py\n",
    "path('book/<int:page>/<str:name>/<int:price>/', views.book, name='book')\n",
    "\n",
    "# views.py\n",
    "def book(request, **kwargs):\n",
    "    return HttpResponse('book page:{} name:{} price:{}'.format(page, name, price))"
   ]
  },
  {
   "cell_type": "markdown",
   "metadata": {},
   "source": [
    "# 类视图传参"
   ]
  },
  {
   "cell_type": "code",
   "execution_count": null,
   "metadata": {
    "collapsed": true
   },
   "outputs": [],
   "source": [
    "# urls.py\n",
    "path('book/<int:page>/<str:name>/', views.BookView.as_view(), name='book')\n",
    "\n",
    "# views.py\n",
    "class BookView(generic.ListView):\n",
    "    model = Book\n",
    "    template_name = 'book_manage/book.html'\n",
    "    \n",
    "    def get_context_data(self, **kwargs):\n",
    "        context = super().get_context_data(**kwargs)\n",
    "        context['page'] = self.kwargs.get('page', 0)\n",
    "        context['name'] = self.kwargs.get('name', '')"
   ]
  },
  {
   "cell_type": "markdown",
   "metadata": {},
   "source": [
    "类视图中，url的参数，在后台存放在self.kwargs这个字典中"
   ]
  }
 ],
 "metadata": {
  "kernelspec": {
   "display_name": "Python 3",
   "language": "python",
   "name": "python3"
  },
  "language_info": {
   "codemirror_mode": {
    "name": "ipython",
    "version": 3
   },
   "file_extension": ".py",
   "mimetype": "text/x-python",
   "name": "python",
   "nbconvert_exporter": "python",
   "pygments_lexer": "ipython3",
   "version": "3.6.1"
  }
 },
 "nbformat": 4,
 "nbformat_minor": 2
}
