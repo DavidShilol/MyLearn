{
 "cells": [
  {
   "cell_type": "markdown",
   "metadata": {},
   "source": [
    "django提供了一些分页功能的类，下面是使用的例子"
   ]
  },
  {
   "cell_type": "code",
   "execution_count": null,
   "metadata": {
    "collapsed": true
   },
   "outputs": [],
   "source": [
    "# views.py\n",
    "from django.core.paginator import EmptyPage, PageNotAnInteger, Paginator\n",
    "from django.shortcuts import render\n",
    "\n",
    "def listing(request):\n",
    "    contact_list = Contacts.objects.all()\n",
    "    paginator = Paginator(contact_list, 25) # Show 25 contacts per page\n",
    "\n",
    "    page = request.GET.get('page')\n",
    "    contacts = paginator.get_page(page)\n",
    "    return render(request, 'list.html', {'contacts': contacts})\n",
    "\n",
    "# html\n",
    "{% for contact in contacts %}\n",
    "    {# Each \"contact\" is a Contact model object. #}\n",
    "    {{ contact.full_name|upper }}<br />\n",
    "    ...\n",
    "{% endfor %}\n",
    "\n",
    "<div class=\"pagination\">\n",
    "    <span class=\"step-links\">\n",
    "        {% if contacts.has_previous %}\n",
    "            <a href=\"?page=1\">&laquo; first</a>\n",
    "            <a href=\"?page={{ contacts.previous_page_number }}\">previous</a>\n",
    "        {% endif %}\n",
    "\n",
    "        <span class=\"current\">\n",
    "            Page {{ contacts.number }} of {{ contacts.paginator.num_pages }}.\n",
    "        </span>\n",
    "\n",
    "        {% if contacts.has_next %}\n",
    "            <a href=\"?page={{ contacts.next_page_number }}\">next</a>\n",
    "            <a href=\"?page={{ contacts.paginator.num_pages }}\">last &raquo;</a>\n",
    "        {% endif %}\n",
    "    </span>\n",
    "</div>"
   ]
  },
  {
   "cell_type": "markdown",
   "metadata": {},
   "source": [
    "### class Paginator(object_list, per_page, orphans=0, allow_empty_first_page=True)\n",
    "+ 必选参数\n",
    "   + object_list：需要分页的可迭代对象\n",
    "   + per_page：每页最大数据行数\n",
    "+ 可选参数\n",
    "   + orphans：最后一页的最大数据行数\n",
    "   + allow_empty_first_page：允许没有对象返回，默认为True\n",
    "+ 方法\n",
    "   + get_page(number)：获取对应页数的Page对象，页码从1开始计数，页码小于1则返回第一页，大于最大页码则返回最后一页，参数非数字则返回第一页\n",
    "   + page(number)：返回对应页数的Page对象，页码错误会报错\n",
    "+ 属性\n",
    "   + count：总行数\n",
    "   + num_pages：总页数\n",
    "   + page_range：页码取值范围\n",
    "### Page objects\n",
    "+ 方法\n",
    "   + has_next()\n",
    "   + has_previous()\n",
    "   + has_other_pages()：是否有上一页或下一页\n",
    "   + next_page_number()\n",
    "   + previous_page_number()\n",
    "   + start_index()：返回当前页的第一行数据在总的object_list中的1-based索引值\n",
    "   + end_index()\n",
    "+ 属性\n",
    "   + object_list：当前页的object_list\n",
    "   + number：当前页的1-based页码\n",
    "   + paginator：关联的Paginator对象"
   ]
  }
 ],
 "metadata": {
  "kernelspec": {
   "display_name": "Python 3",
   "language": "python",
   "name": "python3"
  },
  "language_info": {
   "codemirror_mode": {
    "name": "ipython",
    "version": 3
   },
   "file_extension": ".py",
   "mimetype": "text/x-python",
   "name": "python",
   "nbconvert_exporter": "python",
   "pygments_lexer": "ipython3",
   "version": "3.6.1"
  }
 },
 "nbformat": 4,
 "nbformat_minor": 2
}
