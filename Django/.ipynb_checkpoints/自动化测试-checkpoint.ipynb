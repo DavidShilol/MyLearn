{
 "cells": [
  {
   "cell_type": "markdown",
   "metadata": {},
   "source": [
    "测试，用于检查代码正确性的简单程序。  \n",
    "编写测试，能够确保小的修改没有对整个项目造成影响，能够检测别人的程序是否存在问题并快速定位错误位置。  \n",
    "测试能够预防错误，测试能让意图更清晰。"
   ]
  },
  {
   "cell_type": "markdown",
   "metadata": {},
   "source": [
    "+ 测试程序需要放在test.py中  \n",
    "+ 测试类需要继承django.test.TestCase类  \n",
    "+ 测试类中的方法需要以test开头，从而让Django能找到测试方法，并且没有返回值\n",
    "+ 测试的核心函数是assertIs/assertContains/assertEqual/assertQuerysetEqual，根据需要进行使用\n",
    "+ 在命令行输入`python manage.py test app_name`来测试你的项目"
   ]
  },
  {
   "cell_type": "markdown",
   "metadata": {},
   "source": [
    "测试思路：  \n",
    "+ 对于每个模型和视图，都建立单独的TestClass  \n",
    "+ 每个测试方法，只测一个功能\n",
    "+ 给每个测试方法起个能描述其功能的名字"
   ]
  }
 ],
 "metadata": {
  "kernelspec": {
   "display_name": "Python 3",
   "language": "python",
   "name": "python3"
  },
  "language_info": {
   "codemirror_mode": {
    "name": "ipython",
    "version": 3
   },
   "file_extension": ".py",
   "mimetype": "text/x-python",
   "name": "python",
   "nbconvert_exporter": "python",
   "pygments_lexer": "ipython3",
   "version": "3.6.1"
  }
 },
 "nbformat": 4,
 "nbformat_minor": 2
}
