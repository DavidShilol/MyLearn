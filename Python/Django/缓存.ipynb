{
 "cells": [
  {
   "cell_type": "markdown",
   "metadata": {},
   "source": [
    "Django自带强大的缓存系统，提供不同层次的缓存粒度（view函数的输出，某部分数据或整个站点）\n",
    "\n",
    "原理：给定一个url，尝试从缓存中查找url对应的页面，如果缓存中存在，则直接从缓存中返回该页面；否则，就执行一系列操作后，将页面缓存下来，并返回该页面。\n",
    "\n",
    "Django中的缓存系统：Memcached、数据库、文件、本地内存\n",
    "\n",
    "Django也可使用第三方缓存后端，如redis。"
   ]
  }
 ],
 "metadata": {
  "kernelspec": {
   "display_name": "Python 3",
   "language": "python",
   "name": "python3"
  },
  "language_info": {
   "codemirror_mode": {
    "name": "ipython",
    "version": 3
   },
   "file_extension": ".py",
   "mimetype": "text/x-python",
   "name": "python",
   "nbconvert_exporter": "python",
   "pygments_lexer": "ipython3",
   "version": "3.6.1"
  }
 },
 "nbformat": 4,
 "nbformat_minor": 2
}
