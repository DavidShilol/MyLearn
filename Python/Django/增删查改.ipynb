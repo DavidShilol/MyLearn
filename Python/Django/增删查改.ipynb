{
 "cells": [
  {
   "cell_type": "markdown",
   "metadata": {},
   "source": [
    "# 增加数据"
   ]
  },
  {
   "cell_type": "code",
   "execution_count": null,
   "metadata": {
    "collapsed": true
   },
   "outputs": [],
   "source": [
    "# 无外键，一对一外键，一对多外键都类似\n",
    "\n",
    "# 方法1，create\n",
    "a = Classes.objects.get(pk=1)\n",
    "Student.objects.create(name='Amy', classes=a)\n",
    "\n",
    "# 方法2，save\n",
    "b = Student(name='Amy')\n",
    "b.classes = a\n",
    "b.save()\n",
    "\n",
    "# 多对多外键\n",
    "a = Author.objects.get(pk=1)\n",
    "b = Book(name='test')\n",
    "b.authors.add(a)\n",
    "# 如果多对多字段要插入多个外键，可以add一个filter或一个可迭代的对象，如list\n",
    "a = Author.objects.filter(name__icontain='al')\n",
    "b = Book(name='test')\n",
    "b.authors.add(*a)"
   ]
  },
  {
   "cell_type": "markdown",
   "metadata": {},
   "source": [
    "# 删除数据"
   ]
  },
  {
   "cell_type": "code",
   "execution_count": null,
   "metadata": {
    "collapsed": true
   },
   "outputs": [],
   "source": [
    "Book.objects.get(id=1).delete()\n",
    "Book.objects.filter(name__icontain='oo').delete()"
   ]
  },
  {
   "cell_type": "markdown",
   "metadata": {},
   "source": [
    "# 查询数据"
   ]
  },
  {
   "cell_type": "code",
   "execution_count": null,
   "metadata": {
    "collapsed": true
   },
   "outputs": [],
   "source": [
    "Book.objects.get()\n",
    "Book.objects.filter()\n",
    "Book.objects.order_by()"
   ]
  },
  {
   "cell_type": "markdown",
   "metadata": {},
   "source": [
    "# 修改数据"
   ]
  },
  {
   "cell_type": "code",
   "execution_count": null,
   "metadata": {
    "collapsed": true
   },
   "outputs": [],
   "source": [
    "# 方法1，save\n",
    "b = Book.objects.get(id=1)\n",
    "b.name = 'fff'\n",
    "b.save()\n",
    "\n",
    "# 方法2，update，推荐\n",
    "Book.objects.filter(name__icontain='oo').update(name='pp')\n",
    "# save方法会把所有字段重新set赋值一遍，update只会更新指定字段，update方法效率比save高很多，更符合UPDATE的概念"
   ]
  }
 ],
 "metadata": {
  "kernelspec": {
   "display_name": "Python 3",
   "language": "python",
   "name": "python3"
  },
  "language_info": {
   "codemirror_mode": {
    "name": "ipython",
    "version": 3
   },
   "file_extension": ".py",
   "mimetype": "text/x-python",
   "name": "python",
   "nbconvert_exporter": "python",
   "pygments_lexer": "ipython3",
   "version": "3.6.3"
  }
 },
 "nbformat": 4,
 "nbformat_minor": 2
}
