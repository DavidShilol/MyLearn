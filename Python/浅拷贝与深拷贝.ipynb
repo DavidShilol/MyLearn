{
 "cells": [
  {
   "cell_type": "markdown",
   "metadata": {},
   "source": [
    "# 浅拷贝与深拷贝"
   ]
  },
  {
   "cell_type": "markdown",
   "metadata": {},
   "source": [
    "知识基础：\n",
    "1.引用赋值\n",
    "2.列表里存储的不是数据，而是数据在内存中的地址"
   ]
  },
  {
   "cell_type": "markdown",
   "metadata": {},
   "source": [
    "## 话题引入"
   ]
  },
  {
   "cell_type": "code",
   "execution_count": 1,
   "metadata": {},
   "outputs": [
    {
     "name": "stdout",
     "output_type": "stream",
     "text": [
      "a:[1, 2, ['allen', 'rose']]\n",
      "b:[1, 2, ['allen', 'rose']]\n",
      "id_a:1661127142472\n",
      "id_b:1661126869192\n"
     ]
    }
   ],
   "source": [
    "a = [1, 2, ['allen', 'rose']]\n",
    "b = a.copy()\n",
    "print('a:{}\\nb:{}'.format(a, b))\n",
    "print('id_a:{}\\nid_b:{}'.format(id(a), id(b)))"
   ]
  },
  {
   "cell_type": "markdown",
   "metadata": {},
   "source": [
    "上面用copy函数将列表拷贝，现在改变列表中的值，观察现象"
   ]
  },
  {
   "cell_type": "code",
   "execution_count": 2,
   "metadata": {},
   "outputs": [
    {
     "name": "stdout",
     "output_type": "stream",
     "text": [
      "a:[1, 3, ['allen', 'rose']]\n",
      "b:[1, 2, ['allen', 'rose']]\n"
     ]
    }
   ],
   "source": [
    "a[1] = 3\n",
    "print('a:{}\\nb:{}'.format(a, b))"
   ]
  },
  {
   "cell_type": "code",
   "execution_count": 3,
   "metadata": {},
   "outputs": [
    {
     "name": "stdout",
     "output_type": "stream",
     "text": [
      "a:[1, 3, ['ALLEN', 'rose']]\n",
      "b:[1, 2, ['ALLEN', 'rose']]\n"
     ]
    }
   ],
   "source": [
    "b[2][0] = 'ALLEN'\n",
    "print('a:{}\\nb:{}'.format(a, b))"
   ]
  },
  {
   "cell_type": "markdown",
   "metadata": {},
   "source": [
    "结果显示：改变a列表下的一级元素，b没有变化；改变b列表下的小列表里的元素，a会发生变化"
   ]
  },
  {
   "cell_type": "markdown",
   "metadata": {},
   "source": [
    "## 剖析"
   ]
  },
  {
   "cell_type": "markdown",
   "metadata": {},
   "source": [
    "首先观察a、b中所有元素的id"
   ]
  },
  {
   "cell_type": "code",
   "execution_count": 4,
   "metadata": {},
   "outputs": [
    {
     "name": "stdout",
     "output_type": "stream",
     "text": [
      "a中所有元素的id：[1832708560, 1832708624, 1661127143112]\n",
      "b中所有元素的id：[1832708560, 1832708592, 1661127143112]\n",
      "a中小列表的所有元素id：[1661127302872, 1661127833896]\n",
      "b中小列表的所有元素id：[1661127302872, 1661127833896]\n"
     ]
    }
   ],
   "source": [
    "print('a中所有元素的id：{}'.format([id(x) for x in a]))\n",
    "print('b中所有元素的id：{}'.format([id(x) for x in b]))\n",
    "print('a中小列表的所有元素id：{}'.format([id(x) for x in a[2]]))\n",
    "print('b中小列表的所有元素id：{}'.format([id(x) for x in b[2]]))"
   ]
  },
  {
   "cell_type": "markdown",
   "metadata": {},
   "source": [
    "观察可知，a、b中只有第二个元素引用的对象不一样，而刚刚在a中修改的正是第二个元素。但是在b中改变的小列表第一个元素，引用的对象确实相同的。这说明，copy只拷贝了列表下一级元素地址，这就是浅拷贝的原理。"
   ]
  },
  {
   "cell_type": "markdown",
   "metadata": {},
   "source": [
    "### 浅拷贝"
   ]
  },
  {
   "cell_type": "markdown",
   "metadata": {},
   "source": [
    "含义：只复制一级元素地址，而不复制子对象地址"
   ]
  },
  {
   "cell_type": "markdown",
   "metadata": {},
   "source": [
    "### 深拷贝"
   ]
  },
  {
   "cell_type": "markdown",
   "metadata": {},
   "source": [
    "含义：完全拷贝父对象及其所有子对象。函数为deepcopy"
   ]
  },
  {
   "cell_type": "code",
   "execution_count": 5,
   "metadata": {},
   "outputs": [
    {
     "name": "stdout",
     "output_type": "stream",
     "text": [
      "a:[1, 2, ['allen', 'rose']]\n",
      "b:[1, 2, ['allen', 'rose']]\n",
      "a中所有元素的id：[1832708560, 1832708592, 1661127843784]\n",
      "b中所有元素的id：[1832708560, 1832708592, 1661128013320]\n",
      "a中小列表的所有元素id：[1661127835408, 1661127833896]\n",
      "b中小列表的所有元素id：[1661127835408, 1661127833896]\n"
     ]
    }
   ],
   "source": [
    "from copy import deepcopy\n",
    "a = [1, 2, ['allen', 'rose']]\n",
    "b = deepcopy(a)\n",
    "print('a:{}\\nb:{}'.format(a, b))\n",
    "print('a中所有元素的id：{}'.format([id(x) for x in a]))\n",
    "print('b中所有元素的id：{}'.format([id(x) for x in b]))\n",
    "print('a中小列表的所有元素id：{}'.format([id(x) for x in a[2]]))\n",
    "print('b中小列表的所有元素id：{}'.format([id(x) for x in b[2]]))"
   ]
  },
  {
   "cell_type": "code",
   "execution_count": 6,
   "metadata": {},
   "outputs": [
    {
     "name": "stdout",
     "output_type": "stream",
     "text": [
      "a:[1, 3, ['allen', 'rose']]\n",
      "b:[1, 2, ['allen', 'rose']]\n"
     ]
    }
   ],
   "source": [
    "a[1] = 3\n",
    "print('a:{}\\nb:{}'.format(a, b))"
   ]
  },
  {
   "cell_type": "code",
   "execution_count": 7,
   "metadata": {},
   "outputs": [
    {
     "name": "stdout",
     "output_type": "stream",
     "text": [
      "a:[1, 3, ['allen', 'rose']]\n",
      "b:[1, 2, ['ALLEN', 'rose']]\n"
     ]
    }
   ],
   "source": [
    "b[2][0] = 'ALLEN'\n",
    "print('a:{}\\nb:{}'.format(a, b))"
   ]
  },
  {
   "cell_type": "code",
   "execution_count": 8,
   "metadata": {},
   "outputs": [
    {
     "name": "stdout",
     "output_type": "stream",
     "text": [
      "a中所有元素的id：[1832708560, 1832708624, 1661127843784]\n",
      "b中所有元素的id：[1832708560, 1832708592, 1661128013320]\n",
      "a中小列表的所有元素id：[1661127835408, 1661127833896]\n",
      "b中小列表的所有元素id：[1661127302872, 1661127833896]\n"
     ]
    }
   ],
   "source": [
    "print('a中所有元素的id：{}'.format([id(x) for x in a]))\n",
    "print('b中所有元素的id：{}'.format([id(x) for x in b]))\n",
    "print('a中小列表的所有元素id：{}'.format([id(x) for x in a[2]]))\n",
    "print('b中小列表的所有元素id：{}'.format([id(x) for x in b[2]]))"
   ]
  },
  {
   "cell_type": "markdown",
   "metadata": {},
   "source": [
    "可以看到，deepcopy后，b拷贝了所有子对象地址，这时候修改b的小列表的值，a不会变化"
   ]
  }
 ],
 "metadata": {
  "kernelspec": {
   "display_name": "Python 3",
   "language": "python",
   "name": "python3"
  },
  "language_info": {
   "codemirror_mode": {
    "name": "ipython",
    "version": 3
   },
   "file_extension": ".py",
   "mimetype": "text/x-python",
   "name": "python",
   "nbconvert_exporter": "python",
   "pygments_lexer": "ipython3",
   "version": "3.6.3"
  }
 },
 "nbformat": 4,
 "nbformat_minor": 2
}
