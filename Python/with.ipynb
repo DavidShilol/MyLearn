{
 "cells": [
  {
   "cell_type": "markdown",
   "metadata": {},
   "source": [
    "# 相关概念\n",
    "+ 上下文管理协议(Context Management Protocol)：协议必须实现`__enter__()`和`__exit__()`\n",
    "+ 上下文管理器(Context Manager)：支持上下文管理协议的对象，即实现了`__enter__()`和`__exit__()`的对象。当执行with语句时，上下文管理器会在进入with语句体前调用enter方法，退出语句体后调用exit方法。除了用with调用外，也可以直接调用其方法来使用。\n",
    "+ 运行时上下文(runtime context)：由上下文管理器创建，通过上下文管理器的enter和exit方法实现。with语句支持运行时上下文这一概念。\n",
    "+ 上下文表达式(Context Expression)：with之后的表达式，表达式返回一个上下文管理器对象。\n",
    "+ 语句体(with-body)：with包裹起来的代码块。"
   ]
  },
  {
   "cell_type": "markdown",
   "metadata": {},
   "source": [
    "# with语法  \n",
    "+ with语句的语法格式\n",
    "```\n",
    "with context_expression [as target(s)]:\n",
    "    with-body\n",
    "```"
   ]
  },
  {
   "cell_type": "markdown",
   "metadata": {},
   "source": [
    "+ 操作文件对象  \n",
    "```\n",
    "with open() as f:\n",
    "    pass\n",
    "```"
   ]
  }
 ],
 "metadata": {
  "kernelspec": {
   "display_name": "Python 3",
   "language": "python",
   "name": "python3"
  },
  "language_info": {
   "codemirror_mode": {
    "name": "ipython",
    "version": 3
   },
   "file_extension": ".py",
   "mimetype": "text/x-python",
   "name": "python",
   "nbconvert_exporter": "python",
   "pygments_lexer": "ipython3",
   "version": "3.6.1"
  }
 },
 "nbformat": 4,
 "nbformat_minor": 2
}
