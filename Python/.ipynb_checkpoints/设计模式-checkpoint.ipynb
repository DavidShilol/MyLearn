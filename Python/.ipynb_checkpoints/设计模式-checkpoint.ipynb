{
 "cells": [
  {
   "cell_type": "markdown",
   "metadata": {},
   "source": [
    "# 设计模式"
   ]
  },
  {
   "cell_type": "markdown",
   "metadata": {},
   "source": [
    "1.单例模式（参考：https://www.cnblogs.com/huchong/p/8244279.html ）  \n",
    "单例模式的目的是确保**一个类只有一个实例对象**  \n",
    "在业务情景下，存在相同的对象被反复创建的情况，造成大量内存的浪费，这时就可以使用单例模式\n",
    "\n",
    "推荐使用基于\\_\\_new\\_\\_方法实现：  "
   ]
  },
  {
   "cell_type": "code",
   "execution_count": 1,
   "metadata": {
    "collapsed": true
   },
   "outputs": [],
   "source": [
    "import threading\n",
    "class MyItem(object):\n",
    "    _instance_lock = threading.Lock()\n",
    "    \n",
    "    \n",
    "    def __init__(self):\n",
    "        pass\n",
    "    \n",
    "    \n",
    "    def __new__(cls, *args, **kwargs):\n",
    "        if not hasattr(MyItem, '_instance'):\n",
    "            with MyItem._instance_lock:\n",
    "                if not hasattr(MyItem, '_instance'):\n",
    "                    MyItem._instance = object.__new__(cls)\n",
    "        return MyItem._instance"
   ]
  },
  {
   "cell_type": "code",
   "execution_count": 2,
   "metadata": {},
   "outputs": [
    {
     "name": "stdout",
     "output_type": "stream",
     "text": [
      "<__main__.MyItem object at 0x000001E5BB8BCC18> <__main__.MyItem object at 0x000001E5BB8BCC18>\n"
     ]
    }
   ],
   "source": [
    "obj1 = MyItem()\n",
    "obj2 = MyItem()\n",
    "print(obj1, obj2)"
   ]
  }
 ],
 "metadata": {
  "kernelspec": {
   "display_name": "Python 3",
   "language": "python",
   "name": "python3"
  },
  "language_info": {
   "codemirror_mode": {
    "name": "ipython",
    "version": 3
   },
   "file_extension": ".py",
   "mimetype": "text/x-python",
   "name": "python",
   "nbconvert_exporter": "python",
   "pygments_lexer": "ipython3",
   "version": "3.6.1"
  }
 },
 "nbformat": 4,
 "nbformat_minor": 2
}
