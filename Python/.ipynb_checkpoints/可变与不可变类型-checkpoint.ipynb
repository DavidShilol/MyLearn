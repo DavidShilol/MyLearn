{
 "cells": [
  {
   "cell_type": "markdown",
   "metadata": {},
   "source": [
    "# 可变与不可变类型"
   ]
  },
  {
   "cell_type": "markdown",
   "metadata": {},
   "source": [
    "引入：python的赋值，本质是引用赋值。创建对象后，会存在内存中的某一位置，变量赋值实际上是引用这块内存中的内容。python内有一个引用计数器，有多少个变量引用该对象，计数器就是多少，当引用数为0，对象销毁。"
   ]
  },
  {
   "cell_type": "markdown",
   "metadata": {},
   "source": [
    "举个例子:数字、字符串、元组是不可变类型，字典、列表是可变类型。"
   ]
  },
  {
   "cell_type": "markdown",
   "metadata": {},
   "source": [
    "## 不可变类型"
   ]
  },
  {
   "cell_type": "markdown",
   "metadata": {},
   "source": [
    "int为例，如果对象的值相同，其实引用的是同样的对象"
   ]
  },
  {
   "cell_type": "code",
   "execution_count": 1,
   "metadata": {},
   "outputs": [
    {
     "name": "stdout",
     "output_type": "stream",
     "text": [
      "a's id is 1495591504\n",
      "b's id is 1495591504\n"
     ]
    }
   ],
   "source": [
    "a = 5\n",
    "b = 5\n",
    "print('a\\'s id is {}'.format(id(a)))\n",
    "print('b\\'s id is {}'.format(id(b)))"
   ]
  },
  {
   "cell_type": "markdown",
   "metadata": {},
   "source": [
    "下面的也是一个道理：对象的值相同，引用的对象也相同"
   ]
  },
  {
   "cell_type": "code",
   "execution_count": 2,
   "metadata": {},
   "outputs": [
    {
     "name": "stdout",
     "output_type": "stream",
     "text": [
      "a's id is 1495591504\n",
      "c's id is 1495591504\n",
      "d's id is 1495591536\n",
      "6-1's id is 1495591504\n"
     ]
    }
   ],
   "source": [
    "c = 4+1\n",
    "d = 6\n",
    "print('a\\'s id is {}'.format(id(a)))\n",
    "print('c\\'s id is {}'.format(id(c)))\n",
    "print('d\\'s id is {}'.format(id(d)))\n",
    "print('6-1\\'s id is {}'.format(id(d-1)) )"
   ]
  },
  {
   "cell_type": "markdown",
   "metadata": {},
   "source": [
    "改变变量的值，其实是重新创建了一个对象，并改变了变量的引用对象"
   ]
  },
  {
   "cell_type": "code",
   "execution_count": 3,
   "metadata": {},
   "outputs": [
    {
     "name": "stdout",
     "output_type": "stream",
     "text": [
      "修改之前，d的id是1495591536\n",
      "修改之后，d的id是1495591568\n",
      "自增之后，d的id是1495591600\n"
     ]
    }
   ],
   "source": [
    "print('修改之前，d的id是{}'.format(id(d)))\n",
    "d = 7\n",
    "print('修改之后，d的id是{}'.format(id(d)))\n",
    "d += 1\n",
    "print('自增之后，d的id是{}'.format(id(d)))"
   ]
  },
  {
   "cell_type": "markdown",
   "metadata": {},
   "source": [
    "float类型则不太一样，由于内存中没有缓存创建的对象，即使对象值相同，仍然会创建新的对象"
   ]
  },
  {
   "cell_type": "code",
   "execution_count": 4,
   "metadata": {},
   "outputs": [
    {
     "name": "stdout",
     "output_type": "stream",
     "text": [
      "2052503025392 2052503025368\n"
     ]
    }
   ],
   "source": [
    "a = 3.14\n",
    "b = 3.14\n",
    "print(id(a), id(b))"
   ]
  },
  {
   "cell_type": "code",
   "execution_count": 5,
   "metadata": {},
   "outputs": [
    {
     "name": "stdout",
     "output_type": "stream",
     "text": [
      "2052503025416 2052503025488\n"
     ]
    }
   ],
   "source": [
    "c = 5.0\n",
    "d = 5.0\n",
    "print(id(c), id(d))"
   ]
  },
  {
   "cell_type": "markdown",
   "metadata": {},
   "source": [
    "总结一下，不可变类型中，python会缓存int和短字符串，其他的则不会。"
   ]
  },
  {
   "cell_type": "markdown",
   "metadata": {},
   "source": [
    "## 可变类型"
   ]
  },
  {
   "cell_type": "markdown",
   "metadata": {},
   "source": [
    "list"
   ]
  },
  {
   "cell_type": "code",
   "execution_count": 6,
   "metadata": {},
   "outputs": [
    {
     "name": "stdout",
     "output_type": "stream",
     "text": [
      "修改前的id为：2052504596552\n",
      "修改后，列表内容为：[1, 2, 3, 4]，id为：2052504596552\n"
     ]
    }
   ],
   "source": [
    "l = [1, 2, 3]\n",
    "print('修改前的id为：{}'.format(id(l)))\n",
    "l.append(4)\n",
    "print('修改后，列表内容为：{}，id为：{}'.format(l, id(l)))"
   ]
  }
 ],
 "metadata": {
  "kernelspec": {
   "display_name": "Python 3",
   "language": "python",
   "name": "python3"
  },
  "language_info": {
   "codemirror_mode": {
    "name": "ipython",
    "version": 3
   },
   "file_extension": ".py",
   "mimetype": "text/x-python",
   "name": "python",
   "nbconvert_exporter": "python",
   "pygments_lexer": "ipython3",
   "version": "3.6.1"
  }
 },
 "nbformat": 4,
 "nbformat_minor": 2
}
