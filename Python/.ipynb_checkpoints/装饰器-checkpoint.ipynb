{
 "cells": [
  {
   "cell_type": "markdown",
   "metadata": {},
   "source": [
    "# 最简单的装饰器"
   ]
  },
  {
   "cell_type": "code",
   "execution_count": 1,
   "metadata": {
    "collapsed": true
   },
   "outputs": [],
   "source": [
    "import functools"
   ]
  },
  {
   "cell_type": "code",
   "execution_count": 2,
   "metadata": {},
   "outputs": [
    {
     "name": "stdout",
     "output_type": "stream",
     "text": [
      "foo\n",
      "-----------\n",
      "deco head\n",
      "foo\n",
      "deco tail\n"
     ]
    }
   ],
   "source": [
    "def deco(func):\n",
    "    print('deco head')\n",
    "    func()\n",
    "    print('deco tail')\n",
    "\n",
    "def foo():\n",
    "    print('foo')\n",
    "    \n",
    "foo()\n",
    "print('-----------')\n",
    "deco(foo)"
   ]
  },
  {
   "cell_type": "markdown",
   "metadata": {},
   "source": [
    "# 使用语法糖"
   ]
  },
  {
   "cell_type": "markdown",
   "metadata": {},
   "source": [
    "装饰器函数最好结合嵌套函数来使用语法糖，注意第7行，装饰器一定要返回内嵌函数。第9行@deco等效于foo = deco(foo)。语法糖的好处是减少字符量，看上去更像装饰器。"
   ]
  },
  {
   "cell_type": "code",
   "execution_count": 3,
   "metadata": {},
   "outputs": [
    {
     "name": "stdout",
     "output_type": "stream",
     "text": [
      "deco head\n",
      "foo\n",
      "deco tail\n"
     ]
    }
   ],
   "source": [
    "def deco(func):\n",
    "    def wrapper():\n",
    "        print('deco head')\n",
    "        f = func()\n",
    "        print('deco tail')\n",
    "    \n",
    "    return wrapper\n",
    "\n",
    "@deco\n",
    "def foo():\n",
    "    print('foo')\n",
    "    \n",
    "foo()"
   ]
  },
  {
   "cell_type": "markdown",
   "metadata": {},
   "source": [
    "# 装饰带参数的函数"
   ]
  },
  {
   "cell_type": "code",
   "execution_count": 4,
   "metadata": {},
   "outputs": [
    {
     "name": "stdout",
     "output_type": "stream",
     "text": [
      "deco head\n",
      "foo value:5,8\n",
      "deco tail\n"
     ]
    }
   ],
   "source": [
    "def deco(func):\n",
    "    def wrapper(a, b):\n",
    "        print('deco head')\n",
    "        f = func(a, b)\n",
    "        print('deco tail')\n",
    "    \n",
    "    return wrapper\n",
    "\n",
    "@deco\n",
    "def foo(a, b):\n",
    "    print('foo value:{},{}'.format(a, b))\n",
    "    \n",
    "foo(5, 8)"
   ]
  },
  {
   "cell_type": "markdown",
   "metadata": {},
   "source": [
    "# 装饰参数数目不确定的函数"
   ]
  },
  {
   "cell_type": "markdown",
   "metadata": {},
   "source": [
    "python基础知识点:\n",
    "1.可变形参，用\\*args\n",
    "2.不可变参数，用\\*\\*kwargs\n",
    "函数中，可以直接使用传进来的变量名"
   ]
  },
  {
   "cell_type": "code",
   "execution_count": 5,
   "metadata": {},
   "outputs": [
    {
     "name": "stdout",
     "output_type": "stream",
     "text": [
      "deco head\n",
      "foo1 value:3,4\n",
      "deco tail\n",
      "-----------\n",
      "deco head\n",
      "foo2 value:5,6,7\n",
      "deco tail\n",
      "-----------\n",
      "deco head\n",
      "foo3 value:9,10,11,fine\n",
      "deco tail\n",
      "-----------\n",
      "deco head\n",
      "foo3 value:9,10,11,hello\n",
      "deco tail\n"
     ]
    }
   ],
   "source": [
    "def deco(func):\n",
    "    def wrapper(*args, **kwargs):\n",
    "        print('deco head')\n",
    "        f = func(*args, **kwargs)\n",
    "        print('deco tail')\n",
    "    \n",
    "    return wrapper\n",
    "\n",
    "@deco\n",
    "def foo1(a, b):\n",
    "    print('foo1 value:{},{}'.format(a, b))\n",
    "\n",
    "@deco\n",
    "def foo2(a, b ,c):\n",
    "    print('foo2 value:{},{},{}'.format(a, b, c))\n",
    "    \n",
    "@deco\n",
    "def foo3(a, b ,c, d='hello'):\n",
    "    print('foo3 value:{},{},{},{}'.format(a, b, c, d))\n",
    "    \n",
    "foo1(3, 4)\n",
    "print('-----------')\n",
    "foo2(5, 6, 7)\n",
    "print('-----------')\n",
    "foo3(9, 10, 11, 'fine')\n",
    "print('-----------')\n",
    "foo3(9, 10, 11)"
   ]
  }
 ],
 "metadata": {
  "kernelspec": {
   "display_name": "Python 3",
   "language": "python",
   "name": "python3"
  },
  "language_info": {
   "codemirror_mode": {
    "name": "ipython",
    "version": 3
   },
   "file_extension": ".py",
   "mimetype": "text/x-python",
   "name": "python",
   "nbconvert_exporter": "python",
   "pygments_lexer": "ipython3",
   "version": "3.6.1"
  }
 },
 "nbformat": 4,
 "nbformat_minor": 2
}
