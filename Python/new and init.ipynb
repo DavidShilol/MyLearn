{
 "cells": [
  {
   "cell_type": "markdown",
   "metadata": {},
   "source": [
    "# new and init"
   ]
  },
  {
   "cell_type": "markdown",
   "metadata": {},
   "source": [
    "new在实例创建之前被调用，用于生成实例并返回实例对象，是一个静态方法。init是实例对象创建完成后被调用，用于设置一些属性的初始值，是一个实例方法\n",
    "new是用于控制实例的生成，init是用于控制实例的属性初始化。"
   ]
  },
  {
   "cell_type": "markdown",
   "metadata": {},
   "source": [
    "## init"
   ]
  },
  {
   "cell_type": "markdown",
   "metadata": {},
   "source": [
    "init可以在创建类之后，设置一些属性的初始值"
   ]
  },
  {
   "cell_type": "code",
   "execution_count": 1,
   "metadata": {
    "collapsed": true
   },
   "outputs": [],
   "source": [
    "class Student:\n",
    "    def __init__(self, name, age):\n",
    "        self.name = name\n",
    "        self.age = age\n",
    "        print('create a student')\n",
    "        print(self.name, self.age)"
   ]
  },
  {
   "cell_type": "code",
   "execution_count": 2,
   "metadata": {},
   "outputs": [
    {
     "name": "stdout",
     "output_type": "stream",
     "text": [
      "create a student\n",
      "allen 23\n"
     ]
    }
   ],
   "source": [
    "s = Student('allen', 23)"
   ]
  },
  {
   "cell_type": "markdown",
   "metadata": {},
   "source": [
    "## new"
   ]
  },
  {
   "cell_type": "markdown",
   "metadata": {},
   "source": [
    "只有继承了object类的新式类才有new方法"
   ]
  },
  {
   "cell_type": "code",
   "execution_count": 3,
   "metadata": {
    "collapsed": true
   },
   "outputs": [],
   "source": [
    "class Book(object):\n",
    "    def __new__(cls):\n",
    "        print('new a class')\n",
    "        return super(Book, cls).__new__(cls)"
   ]
  },
  {
   "cell_type": "code",
   "execution_count": 4,
   "metadata": {},
   "outputs": [
    {
     "name": "stdout",
     "output_type": "stream",
     "text": [
      "new a class\n"
     ]
    }
   ],
   "source": [
    "b = Book()"
   ]
  },
  {
   "cell_type": "markdown",
   "metadata": {},
   "source": [
    "new方法的参数cls表示当前类，运行时自动识别，和类实例方法中的self很相似，都表示当前实例。\n",
    "\n",
    "同时要注意，new方法必须要有返回值，返回实例对象。"
   ]
  },
  {
   "cell_type": "markdown",
   "metadata": {},
   "source": [
    "new的用途：当继承一些不可变的class（int，str，tuple）时，能够自定义类的实例化过程。以ini为例："
   ]
  },
  {
   "cell_type": "code",
   "execution_count": 5,
   "metadata": {
    "collapsed": true
   },
   "outputs": [],
   "source": [
    "class PositiveInteger(int):\n",
    "    def __new__(cls, value):\n",
    "        print('in new')\n",
    "        return super(PositiveInteger, cls).__new__(cls, abs(value))"
   ]
  },
  {
   "cell_type": "code",
   "execution_count": 6,
   "metadata": {},
   "outputs": [
    {
     "name": "stdout",
     "output_type": "stream",
     "text": [
      "in new\n"
     ]
    },
    {
     "data": {
      "text/plain": [
       "3"
      ]
     },
     "execution_count": 6,
     "metadata": {},
     "output_type": "execute_result"
    }
   ],
   "source": [
    "p = PositiveInteger(-3)\n",
    "p"
   ]
  },
  {
   "cell_type": "markdown",
   "metadata": {},
   "source": [
    "乍一看init和new很像，都是在形如s = PositiveInteger(-3)的过程中执行。\n",
    "实际上，这个句子的执行过程是这样的：先执行new方法，new返回一个实例对象，并隐式调用init方法。"
   ]
  }
 ],
 "metadata": {
  "kernelspec": {
   "display_name": "Python 3",
   "language": "python",
   "name": "python3"
  },
  "language_info": {
   "codemirror_mode": {
    "name": "ipython",
    "version": 3
   },
   "file_extension": ".py",
   "mimetype": "text/x-python",
   "name": "python",
   "nbconvert_exporter": "python",
   "pygments_lexer": "ipython3",
   "version": "3.6.1"
  }
 },
 "nbformat": 4,
 "nbformat_minor": 2
}
