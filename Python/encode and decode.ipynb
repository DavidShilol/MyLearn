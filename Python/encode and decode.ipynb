{
 "cells": [
  {
   "cell_type": "markdown",
   "metadata": {},
   "source": [
    "# encode and decode"
   ]
  },
  {
   "cell_type": "markdown",
   "metadata": {},
   "source": [
    "## 编码格式"
   ]
  },
  {
   "cell_type": "markdown",
   "metadata": {
    "collapsed": true
   },
   "source": [
    "计算机中，存储的信息都有一定的编码格式，比如汉字‘我’，在计算机眼里，存的并不是‘我’，而是二进制的一串数字，而且不同编码，使用的二进制数和位长都不相同。\n",
    "\n",
    "常用的编码格式有UTF8、GBK、GB2312等，一般设置为UTF8，支持绝大部分的中文字符。"
   ]
  },
  {
   "cell_type": "markdown",
   "metadata": {},
   "source": [
    "## Python2中的类型——str与unicode"
   ]
  },
  {
   "cell_type": "markdown",
   "metadata": {},
   "source": [
    "前面我们说，字符有多种编码格式，比如UTF8和GBK。但不同编码格式之间，如何相互转换呢？这就需要一个转换的桥梁，需要一个翻译官的角色为双方翻译。\n",
    "\n",
    "unicode就是这个翻译官，它能转换成任意编码格式的str。\n",
    "\n",
    "在Python中，GBK转换成UTF8，需要先将GBK编码格式的str类型转换成unicode类型，然后将unicode类型再转换成UTF8编码格式的str类型。"
   ]
  },
  {
   "cell_type": "markdown",
   "metadata": {},
   "source": [
    "## Python2"
   ]
  },
  {
   "cell_type": "markdown",
   "metadata": {},
   "source": [
    "在python2中，字符串有两种类型：str和unicode，程序中默认使用str类型。"
   ]
  },
  {
   "cell_type": "markdown",
   "metadata": {},
   "source": [
    "### 赋值"
   ]
  },
  {
   "cell_type": "markdown",
   "metadata": {},
   "source": [
    "s = '你好'\n",
    "\n",
    "u = u'你好'"
   ]
  },
  {
   "cell_type": "markdown",
   "metadata": {},
   "source": [
    "### str与unicode转换"
   ]
  },
  {
   "cell_type": "markdown",
   "metadata": {},
   "source": [
    "str -> unicode  # decode\n",
    "\n",
    "unicode -> str  # encode"
   ]
  },
  {
   "cell_type": "markdown",
   "metadata": {},
   "source": [
    "ss = s.decode('utf-8')  # ss是unicode类型\n",
    "\n",
    "uu = u.encode('utf-8')  # uu是str类型"
   ]
  },
  {
   "cell_type": "markdown",
   "metadata": {},
   "source": [
    "## Python3"
   ]
  },
  {
   "cell_type": "markdown",
   "metadata": {},
   "source": [
    "python3的字符序列有byte和str两种类型，字符串默认是unicode编码。\n",
    "\n",
    "字符串统一使用unicode编码，不需要再像python2那样麻烦的转换编码。"
   ]
  }
 ],
 "metadata": {
  "kernelspec": {
   "display_name": "Python 3",
   "language": "python",
   "name": "python3"
  },
  "language_info": {
   "codemirror_mode": {
    "name": "ipython",
    "version": 3
   },
   "file_extension": ".py",
   "mimetype": "text/x-python",
   "name": "python",
   "nbconvert_exporter": "python",
   "pygments_lexer": "ipython3",
   "version": "3.6.1"
  }
 },
 "nbformat": 4,
 "nbformat_minor": 2
}
