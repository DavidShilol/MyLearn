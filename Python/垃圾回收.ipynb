{
 "cells": [
  {
   "cell_type": "markdown",
   "metadata": {},
   "source": [
    "# 引用计数"
   ]
  },
  {
   "cell_type": "markdown",
   "metadata": {},
   "source": [
    "python中万物皆类型（对象），每一个对象中都有一个结构体PyObject,其中ob_refcnt存储引用计数。当有新的变量引用该对象，引用计数+1；反之，计数-1。当引用计数为0，该对象将被销毁。"
   ]
  },
  {
   "cell_type": "markdown",
   "metadata": {},
   "source": [
    "引用计数的问题：\n",
    "\n",
    "1.引用计数耗费资源\n",
    "\n",
    "2.循环引用\n",
    "\n",
    "list1 = []\n",
    "\n",
    "list2 = []\n",
    "\n",
    "list1.append(list2)\n",
    "\n",
    "list2.append(list1)\n",
    "\n",
    "循环引用造成占用的内存永远无法回收"
   ]
  },
  {
   "cell_type": "markdown",
   "metadata": {},
   "source": [
    "# 分代回收"
   ]
  },
  {
   "cell_type": "markdown",
   "metadata": {},
   "source": [
    "新对象创建和对象因引用计数为0而结束生命时，内存中会占用或回收相应的资源，这些资源实际上由一个列表管理着，称为“General List”。\n",
    "\n",
    "当对象刚刚创建，该对象会放入零代链表（General Zero List）。每隔一定时间，python会遍历这个链表，检查内部的每个对象是否互相引用，按一定规则，将其引用计数-1。这时，计数为0的对象被收回，剩余活跃的对象将放入一代链表（General One List）。一代链表也按照同样的规则，将剩余活跃的对象放入二代链表。这就是分代回收。\n",
    "\n",
    "分代回收解决了上述了引用计数引发的问题。"
   ]
  }
 ],
 "metadata": {
  "kernelspec": {
   "display_name": "Python 3",
   "language": "python",
   "name": "python3"
  },
  "language_info": {
   "codemirror_mode": {
    "name": "ipython",
    "version": 3
   },
   "file_extension": ".py",
   "mimetype": "text/x-python",
   "name": "python",
   "nbconvert_exporter": "python",
   "pygments_lexer": "ipython3",
   "version": "3.6.1"
  }
 },
 "nbformat": 4,
 "nbformat_minor": 2
}
