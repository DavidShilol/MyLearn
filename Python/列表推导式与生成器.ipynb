{
 "cells": [
  {
   "cell_type": "markdown",
   "metadata": {},
   "source": [
    "# 列表推导式（List Comprehension）"
   ]
  },
  {
   "cell_type": "markdown",
   "metadata": {},
   "source": [
    "列表推导式具有明显的python风格，简单可读性高，效率也比普通的for要高。但占用内存量大，因为它把数据都加载到了内存中。"
   ]
  },
  {
   "cell_type": "code",
   "execution_count": 1,
   "metadata": {},
   "outputs": [
    {
     "name": "stdout",
     "output_type": "stream",
     "text": [
      "[0, 1, 2, 3, 4]\n",
      "[0, 2, 4, 6, 8]\n",
      "[(0, 0), (0, 2), (1, 0), (1, 2), (2, 0), (2, 2)]\n"
     ]
    }
   ],
   "source": [
    "# 简单形式\n",
    "a = [x for x in range(5)]\n",
    "# 使用if\n",
    "b = [x for x in range(10) if x%2 == 0]\n",
    "# 循环嵌套\n",
    "c = [(x,y) for x in range(3) for y in range(4) if y%2 == 0]\n",
    "print(a)\n",
    "print(b)\n",
    "print(c)"
   ]
  },
  {
   "cell_type": "markdown",
   "metadata": {},
   "source": [
    "# 生成器"
   ]
  },
  {
   "cell_type": "markdown",
   "metadata": {},
   "source": [
    "生成器是一种特殊的迭代器。与列表推导式不同的是，生成器一次只返回一个数据，因此几乎不占用内存。\n",
    "\n",
    "生成生成器有两种方法："
   ]
  },
  {
   "cell_type": "markdown",
   "metadata": {},
   "source": [
    "第一种方法如下，列表推导式的[]改为()就是生成器"
   ]
  },
  {
   "cell_type": "code",
   "execution_count": 2,
   "metadata": {},
   "outputs": [
    {
     "data": {
      "text/plain": [
       "<generator object <genexpr> at 0x00000206B3F5B1A8>"
      ]
     },
     "execution_count": 2,
     "metadata": {},
     "output_type": "execute_result"
    }
   ],
   "source": [
    "i = (x for x in range(10))\n",
    "i"
   ]
  },
  {
   "cell_type": "markdown",
   "metadata": {},
   "source": [
    "第二种方法是构造生成器函数，含有yield关键字的函数就不是普通的函数，它被称为生成器函数"
   ]
  },
  {
   "cell_type": "code",
   "execution_count": 3,
   "metadata": {},
   "outputs": [
    {
     "name": "stdout",
     "output_type": "stream",
     "text": [
      "<generator object getnumber at 0x00000206B3FCBD00>\n",
      "0 1 2 3 4 \n",
      "<generator object getnumber at 0x00000206B3FCBCA8>\n",
      "0 1 2\n"
     ]
    }
   ],
   "source": [
    "def getnumber(num):\n",
    "    for i in range(num):\n",
    "        yield i\n",
    "        \n",
    "\n",
    "func = getnumber(5)\n",
    "print(func)\n",
    "for x in func:\n",
    "    print(x, end=' ')\n",
    "print()\n",
    "    \n",
    "func = getnumber(3)\n",
    "print(func)\n",
    "print(next(func), end=' ')\n",
    "print(next(func), end=' ')\n",
    "print(next(func))"
   ]
  },
  {
   "cell_type": "markdown",
   "metadata": {},
   "source": [
    "# 比较"
   ]
  },
  {
   "cell_type": "markdown",
   "metadata": {},
   "source": [
    "1.生成器几乎不占用内存，而列表推导式一次性将数据加载到内存中，占用大量内存。\n",
    "\n",
    "2.生成器只能遍历一次，列表推导式可以多次遍历\n",
    "\n",
    "3.生成器的时间效率也高于列表推导式。"
   ]
  },
  {
   "cell_type": "code",
   "execution_count": 4,
   "metadata": {},
   "outputs": [
    {
     "name": "stdout",
     "output_type": "stream",
     "text": [
      "7.138458609863134e-05\n",
      "0.24506369433284336\n"
     ]
    }
   ],
   "source": [
    "from time import perf_counter as pc\n",
    "\n",
    "a = range(1000)\n",
    "b = range(1000)\n",
    "time1 = pc()\n",
    "genexps = ((i, j) for i in a for j in b)\n",
    "time2 = pc()\n",
    "print(time2 - time1)\n",
    "listcomps = [(i, j) for i in a for j in b]\n",
    "print(pc() - time2)"
   ]
  },
  {
   "cell_type": "markdown",
   "metadata": {},
   "source": [
    "# 补充"
   ]
  },
  {
   "cell_type": "markdown",
   "metadata": {},
   "source": [
    "迭代器原理：迭代器属于一个临时区，开始遍历时创建临时区，遍历的过程中将一些数据放进临时区，遍历结束后，临时区被清空。这也是不占用内存的原因。"
   ]
  }
 ],
 "metadata": {
  "kernelspec": {
   "display_name": "Python 3",
   "language": "python",
   "name": "python3"
  },
  "language_info": {
   "codemirror_mode": {
    "name": "ipython",
    "version": 3
   },
   "file_extension": ".py",
   "mimetype": "text/x-python",
   "name": "python",
   "nbconvert_exporter": "python",
   "pygments_lexer": "ipython3",
   "version": "3.6.1"
  }
 },
 "nbformat": 4,
 "nbformat_minor": 2
}
